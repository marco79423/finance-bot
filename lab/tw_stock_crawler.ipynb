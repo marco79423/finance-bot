{
 "cells": [
  {
   "cell_type": "code",
   "execution_count": 23,
   "metadata": {
    "ExecuteTime": {
     "end_time": "2023-08-19T01:14:38.704433700Z",
     "start_time": "2023-08-19T01:14:32.745699800Z"
    }
   },
   "outputs": [
    {
     "data": {
      "text/plain": "0     listing_date industry instrument_type stock_id    name\n2       1962/02/09     水泥工業              股票     1101      台泥\n3       1962/06/08     水泥工業              股票     1102      亞泥\n4       1969/11/14     水泥工業              股票     1103      嘉泥\n5       1971/02/01     水泥工業              股票     1104      環泥\n6       1990/06/06     水泥工業              股票     1108      幸福\n...            ...      ...             ...      ...     ...\n28958   2005/12/26      NaN    受益證券-不動產投資信託   01003T  兆豐新光R1\n28959   2006/04/13      NaN    受益證券-不動產投資信託   01004T  土銀富邦R2\n28960   2006/10/13      NaN    受益證券-不動產投資信託   01007T  兆豐國泰R2\n28961   2018/06/21      NaN    受益證券-不動產投資信託   01009T  王道圓滿R1\n28962   2018/12/05      NaN    受益證券-不動產投資信託   01010T  京城樂富R1\n\n[28952 rows x 5 columns]",
      "text/html": "<div>\n<style scoped>\n    .dataframe tbody tr th:only-of-type {\n        vertical-align: middle;\n    }\n\n    .dataframe tbody tr th {\n        vertical-align: top;\n    }\n\n    .dataframe thead th {\n        text-align: right;\n    }\n</style>\n<table border=\"1\" class=\"dataframe\">\n  <thead>\n    <tr style=\"text-align: right;\">\n      <th></th>\n      <th>listing_date</th>\n      <th>industry</th>\n      <th>instrument_type</th>\n      <th>stock_id</th>\n      <th>name</th>\n    </tr>\n  </thead>\n  <tbody>\n    <tr>\n      <th>2</th>\n      <td>1962/02/09</td>\n      <td>水泥工業</td>\n      <td>股票</td>\n      <td>1101</td>\n      <td>台泥</td>\n    </tr>\n    <tr>\n      <th>3</th>\n      <td>1962/06/08</td>\n      <td>水泥工業</td>\n      <td>股票</td>\n      <td>1102</td>\n      <td>亞泥</td>\n    </tr>\n    <tr>\n      <th>4</th>\n      <td>1969/11/14</td>\n      <td>水泥工業</td>\n      <td>股票</td>\n      <td>1103</td>\n      <td>嘉泥</td>\n    </tr>\n    <tr>\n      <th>5</th>\n      <td>1971/02/01</td>\n      <td>水泥工業</td>\n      <td>股票</td>\n      <td>1104</td>\n      <td>環泥</td>\n    </tr>\n    <tr>\n      <th>6</th>\n      <td>1990/06/06</td>\n      <td>水泥工業</td>\n      <td>股票</td>\n      <td>1108</td>\n      <td>幸福</td>\n    </tr>\n    <tr>\n      <th>...</th>\n      <td>...</td>\n      <td>...</td>\n      <td>...</td>\n      <td>...</td>\n      <td>...</td>\n    </tr>\n    <tr>\n      <th>28958</th>\n      <td>2005/12/26</td>\n      <td>NaN</td>\n      <td>受益證券-不動產投資信託</td>\n      <td>01003T</td>\n      <td>兆豐新光R1</td>\n    </tr>\n    <tr>\n      <th>28959</th>\n      <td>2006/04/13</td>\n      <td>NaN</td>\n      <td>受益證券-不動產投資信託</td>\n      <td>01004T</td>\n      <td>土銀富邦R2</td>\n    </tr>\n    <tr>\n      <th>28960</th>\n      <td>2006/10/13</td>\n      <td>NaN</td>\n      <td>受益證券-不動產投資信託</td>\n      <td>01007T</td>\n      <td>兆豐國泰R2</td>\n    </tr>\n    <tr>\n      <th>28961</th>\n      <td>2018/06/21</td>\n      <td>NaN</td>\n      <td>受益證券-不動產投資信託</td>\n      <td>01009T</td>\n      <td>王道圓滿R1</td>\n    </tr>\n    <tr>\n      <th>28962</th>\n      <td>2018/12/05</td>\n      <td>NaN</td>\n      <td>受益證券-不動產投資信託</td>\n      <td>01010T</td>\n      <td>京城樂富R1</td>\n    </tr>\n  </tbody>\n</table>\n<p>28952 rows × 5 columns</p>\n</div>"
     },
     "execution_count": 23,
     "metadata": {},
     "output_type": "execute_result"
    }
   ],
   "source": [
    "import pandas as pd\n",
    "\n",
    "import requests\n",
    "\n",
    "res = requests.get(\"https://isin.twse.com.tw/isin/C_public.jsp?strMode=2\")\n",
    "\n",
    "df = pd.read_html(res.text)[0]\n",
    "df.columns = df.iloc[0]\n",
    "df['instrument_type'] = df.iloc[:, 6].fillna(method='ffill')\n",
    "df = df.iloc[1:, ]\n",
    "df = df[df['有價證券代號及名稱'] != df['國際證券辨識號碼(ISIN Code)']]\n",
    "df[['stock_id', 'name']] = df['有價證券代號及名稱'].str.extract(r'([^\\s]+)\\s+(.*)')\n",
    "df = df.drop(columns=['有價證券代號及名稱', '國際證券辨識號碼(ISIN Code)', 'CFICode', '市場別', '備註'])\n",
    "df = df.rename(columns={\n",
    "    '上市日': 'listing_date',\n",
    "    '產業別': 'industry'\n",
    "})\n",
    "df"
   ]
  },
  {
   "cell_type": "code",
   "execution_count": 25,
   "outputs": [
    {
     "data": {
      "text/plain": "2        True\n3        True\n4        True\n5        True\n6        True\n         ... \n28958    True\n28959    True\n28960    True\n28961    True\n28962    True\nName: stock_id, Length: 28952, dtype: bool"
     },
     "execution_count": 25,
     "metadata": {},
     "output_type": "execute_result"
    }
   ],
   "source": [],
   "metadata": {
    "collapsed": false,
    "ExecuteTime": {
     "end_time": "2023-08-19T01:17:46.262410900Z",
     "start_time": "2023-08-19T01:17:46.246411600Z"
    }
   }
  }
 ],
 "metadata": {
  "kernelspec": {
   "display_name": "Python 3 (ipykernel)",
   "language": "python",
   "name": "python3"
  },
  "language_info": {
   "codemirror_mode": {
    "name": "ipython",
    "version": 3
   },
   "file_extension": ".py",
   "mimetype": "text/x-python",
   "name": "python",
   "nbconvert_exporter": "python",
   "pygments_lexer": "ipython3",
   "version": "3.10.11"
  }
 },
 "nbformat": 4,
 "nbformat_minor": 1
}
