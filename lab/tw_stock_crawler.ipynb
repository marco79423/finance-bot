{
 "cells": [
  {
   "cell_type": "code",
   "execution_count": 52,
   "metadata": {
    "ExecuteTime": {
     "end_time": "2023-07-29T09:58:07.723825Z",
     "start_time": "2023-07-29T09:58:01.109231500Z"
    }
   },
   "outputs": [
    {
     "data": {
      "text/html": [
       "<div>\n",
       "<style scoped>\n",
       "    .dataframe tbody tr th:only-of-type {\n",
       "        vertical-align: middle;\n",
       "    }\n",
       "\n",
       "    .dataframe tbody tr th {\n",
       "        vertical-align: top;\n",
       "    }\n",
       "\n",
       "    .dataframe thead th {\n",
       "        text-align: right;\n",
       "    }\n",
       "</style>\n",
       "<table border=\"1\" class=\"dataframe\">\n",
       "  <thead>\n",
       "    <tr style=\"text-align: right;\">\n",
       "      <th></th>\n",
       "      <th>有價證券代號及名稱</th>\n",
       "      <th>國際證券辨識號碼(ISIN Code)</th>\n",
       "      <th>上市日</th>\n",
       "      <th>市場別</th>\n",
       "      <th>產業別</th>\n",
       "      <th>CFICode</th>\n",
       "      <th>備註</th>\n",
       "    </tr>\n",
       "  </thead>\n",
       "  <tbody>\n",
       "  </tbody>\n",
       "</table>\n",
       "</div>"
      ],
      "text/plain": [
       "Empty DataFrame\n",
       "Columns: [有價證券代號及名稱, 國際證券辨識號碼(ISIN Code), 上市日, 市場別, 產業別, CFICode, 備註]\n",
       "Index: []"
      ]
     },
     "execution_count": 52,
     "metadata": {},
     "output_type": "execute_result"
    }
   ],
   "source": [
    "import pandas as pd\n",
    "\n",
    "import requests\n",
    "\n",
    "res = requests.get(\"https://isin.twse.com.tw/isin/C_public.jsp?strMode=2\")\n",
    "\n",
    "df = pd.read_html(res.text)[0]\n",
    "\n",
    "df.columns = df.iloc[0]\n",
    "df = df.iloc[2:]\n",
    "# df = df.dropna(thresh=3, axis=0)\n",
    "#\n",
    "# df[['stock_id', 'name']] = df['有價證券代號及名稱'].str.extract(r'([^\\s]+)\\s+(.*)')\n",
    "# df = df.drop(columns=['有價證券代號及名稱', '國際證券辨識號碼(ISIN Code)', 'CFICode', '市場別', '備註'])\n",
    "# df = df.rename(columns = {\n",
    "#     '上市日': 'listing_date',\n",
    "#     '產業別': 'industry'\n",
    "# })\n",
    "# df\n",
    "\n",
    "df[df['有價證券代號及名稱'].isnull()]"
   ]
  }
 ],
 "metadata": {
  "kernelspec": {
   "display_name": "Python 3 (ipykernel)",
   "language": "python",
   "name": "python3"
  },
  "language_info": {
   "codemirror_mode": {
    "name": "ipython",
    "version": 3
   },
   "file_extension": ".py",
   "mimetype": "text/x-python",
   "name": "python",
   "nbconvert_exporter": "python",
   "pygments_lexer": "ipython3",
   "version": "3.10.11"
  }
 },
 "nbformat": 4,
 "nbformat_minor": 1
}
