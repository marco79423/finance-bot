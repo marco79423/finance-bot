{
 "cells": [
  {
   "cell_type": "code",
   "execution_count": null,
   "metadata": {
    "collapsed": true
   },
   "outputs": [],
   "source": [
    "%load_ext autoreload\n",
    "%autoreload 2"
   ]
  },
  {
   "cell_type": "code",
   "execution_count": null,
   "outputs": [],
   "source": [
    "from finance_bot.ticker_db.updater import FinlabUpdater, get_finlab_data_loader\n",
    "from finance_bot.ticker_db.updater import FinmindUpdater, get_finmind_data_loader\n",
    "\n",
    "finmind_data_loader = get_finmind_data_loader()\n",
    "finmind_updater = FinmindUpdater()\n",
    "\n",
    "finlab_data_loader = get_finlab_data_loader()\n",
    "finlab_updater = FinlabUpdater()"
   ],
   "metadata": {
    "collapsed": false
   }
  }
 ],
 "metadata": {
  "kernelspec": {
   "display_name": "Python 3",
   "language": "python",
   "name": "python3"
  },
  "language_info": {
   "codemirror_mode": {
    "name": "ipython",
    "version": 2
   },
   "file_extension": ".py",
   "mimetype": "text/x-python",
   "name": "python",
   "nbconvert_exporter": "python",
   "pygments_lexer": "ipython2",
   "version": "2.7.6"
  }
 },
 "nbformat": 4,
 "nbformat_minor": 0
}
