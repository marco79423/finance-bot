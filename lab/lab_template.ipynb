{
 "cells": [
  {
   "cell_type": "code",
   "execution_count": 1,
   "metadata": {
    "collapsed": true,
    "ExecuteTime": {
     "end_time": "2023-09-01T23:49:27.635590500Z",
     "start_time": "2023-09-01T23:49:25.921826800Z"
    }
   },
   "outputs": [],
   "source": [
    "%load_ext autoreload\n",
    "%autoreload 2\n",
    "\n",
    "import numpy as np\n",
    "import pandas as pd\n",
    "\n",
    "from finance_bot.bot.tw_stock import TWStockBot\n"
   ]
  },
  {
   "cell_type": "code",
   "execution_count": 2,
   "outputs": [
    {
     "name": "stdout",
     "output_type": "stream",
     "text": [
      "[\u001B[32m2023-09-02 07:49:30.285\u001B[0m][\u001B[1mINFO \u001B[0m][tw_stock_bot] 重建 tw_stock_price 快取 ...\n",
      "[\u001B[32m2023-09-02 07:51:47.627\u001B[0m][\u001B[1mINFO \u001B[0m][tw_stock_bot] 重建 tw_stock_monthly_revenue 快取 ...\n",
      "[\u001B[32m2023-09-02 07:51:49.292\u001B[0m][\u001B[1mINFO \u001B[0m][tw_stock_bot] 重建 tw_stock_financial_statements 快取 ...\n"
     ]
    }
   ],
   "source": [
    "tw_stock_bot = TWStockBot()\n",
    "tw_stock_bot.data.rebuild_cache()"
   ],
   "metadata": {
    "collapsed": false,
    "ExecuteTime": {
     "end_time": "2023-09-01T23:51:50.362397500Z",
     "start_time": "2023-09-01T23:49:29.394896200Z"
    }
   }
  },
  {
   "cell_type": "code",
   "execution_count": 6,
   "outputs": [
    {
     "data": {
      "text/plain": "14235778894500.0"
     },
     "execution_count": 6,
     "metadata": {},
     "output_type": "execute_result"
    }
   ],
   "source": [
    "stock = tw_stock_bot.data['2330']\n",
    "stock.market_capitalization.loc['2023-08-28']"
   ],
   "metadata": {
    "collapsed": false,
    "ExecuteTime": {
     "end_time": "2023-09-01T23:52:14.861394500Z",
     "start_time": "2023-09-01T23:52:14.638143600Z"
    }
   }
  },
  {
   "cell_type": "code",
   "execution_count": 7,
   "outputs": [
    {
     "data": {
      "text/plain": "14235778894500.0"
     },
     "execution_count": 7,
     "metadata": {},
     "output_type": "execute_result"
    }
   ],
   "source": [
    "tw_stock_bot.data.market_capitalization['2330'].loc['2023-08-28']"
   ],
   "metadata": {
    "collapsed": false,
    "ExecuteTime": {
     "end_time": "2023-09-01T23:52:19.894259600Z",
     "start_time": "2023-09-01T23:52:18.010556200Z"
    }
   }
  }
 ],
 "metadata": {
  "kernelspec": {
   "display_name": "Python 3",
   "language": "python",
   "name": "python3"
  },
  "language_info": {
   "codemirror_mode": {
    "name": "ipython",
    "version": 2
   },
   "file_extension": ".py",
   "mimetype": "text/x-python",
   "name": "python",
   "nbconvert_exporter": "python",
   "pygments_lexer": "ipython2",
   "version": "2.7.6"
  }
 },
 "nbformat": 4,
 "nbformat_minor": 0
}
