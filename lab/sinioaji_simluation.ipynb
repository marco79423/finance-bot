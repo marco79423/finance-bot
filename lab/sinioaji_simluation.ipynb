{
 "cells": [
  {
   "cell_type": "code",
   "execution_count": 4,
   "id": "initial_id",
   "metadata": {
    "collapsed": true,
    "ExecuteTime": {
     "end_time": "2023-09-26T00:29:46.829366900Z",
     "start_time": "2023-09-26T00:29:45.510880600Z"
    }
   },
   "outputs": [
    {
     "name": "stdout",
     "output_type": "stream",
     "text": [
      "6ypZ1kqFxxQvwf162jGVwrykX6tWv83LCp2KjSQiMouU\n",
      "Response Code: 0 | Event Code: 0 | Info: host '203.66.91.161:80', hostname '203.66.91.161:80' IP 203.66.91.161:80 (host 1 of 1) (host connection attempt 1 of 1) (total connection attempt 1 of 1) | Event: Session up\n"
     ]
    }
   ],
   "source": [
    "from finance_bot.infrastructure import infra\n",
    "import shioaji as sj\n",
    "\n",
    "api = sj.Shioaji(simulation=True)\n",
    "\n",
    "accounts =  api.login(\n",
    "    api_key=infra.conf.core.tw_stock_manager.shioaji.api_key,\n",
    "    secret_key=infra.conf.core.tw_stock_manager.shioaji.secret_key,\n",
    ")"
   ]
  },
  {
   "cell_type": "code",
   "execution_count": 6,
   "outputs": [
    {
     "data": {
      "text/plain": "Stock(exchange=<Exchange.TSE: 'TSE'>, code='0050', symbol='TSE0050', name='元大台灣50', category='00', unit=1000, limit_up=135.9, limit_down=111.2, reference=123.55, update_date='2023/09/26', margin_trading_balance=7309, day_trade=<DayTrade.Yes: 'Yes'>)"
     },
     "execution_count": 6,
     "metadata": {},
     "output_type": "execute_result"
    }
   ],
   "source": [
    "contract = api.Contracts.Stocks.TSE['0050']\n",
    "contract"
   ],
   "metadata": {
    "collapsed": false,
    "ExecuteTime": {
     "end_time": "2023-09-26T00:31:11.113703Z",
     "start_time": "2023-09-26T00:31:11.074672900Z"
    }
   },
   "id": "d5efc74ce70e83c6"
  },
  {
   "cell_type": "code",
   "execution_count": 7,
   "outputs": [
    {
     "data": {
      "text/plain": "Order(action=<Action.Buy: 'Buy'>, price=18, quantity=1, account=StockAccount(person_id='H124049294', broker_id='9A95', account_id='2498095', username='李袁碩'), price_type=<StockPriceType.LMT: 'LMT'>, order_type=<OrderType.ROD: 'ROD'>)"
     },
     "execution_count": 7,
     "metadata": {},
     "output_type": "execute_result"
    }
   ],
   "source": [
    "order = api.Order(\n",
    "    price=18,                                       # 價格\n",
    "    quantity=1,                                     # 數量\n",
    "    action=sj.constant.Action.Buy,                  # 買賣別\n",
    "    price_type=sj.constant.StockPriceType.LMT,      # 委託價格類別\n",
    "    order_type=sj.constant.OrderType.ROD,           # 委託條件\n",
    "    account=api.stock_account                       # 下單帳號\n",
    ")\n",
    "order"
   ],
   "metadata": {
    "collapsed": false,
    "ExecuteTime": {
     "end_time": "2023-09-26T00:31:24.836936100Z",
     "start_time": "2023-09-26T00:31:24.793939Z"
    }
   },
   "id": "dcbdaa484ac42beb"
  },
  {
   "cell_type": "code",
   "execution_count": 8,
   "outputs": [
    {
     "name": "stdout",
     "output_type": "stream",
     "text": [
      "OrderState.StockOrder {'operation': {'op_type': 'New', 'op_code': '88', 'op_msg': '價格超過漲跌幅範圍'}, 'order': {'id': '09279b49', 'seqno': '000005', 'ordno': '000004', 'action': 'Buy', 'price': 18, 'quantity': 1, 'order_cond': 'Cash', 'order_lot': 'Common', 'custom_field': '', 'order_type': 'ROD', 'price_type': 'LMT'}, 'status': {'id': '09279b49', 'exchange_ts': 1695688296.628285, 'order_quantity': 0, 'modified_price': 0, 'cancel_quantity': 0, 'web_id': '137'}, 'contract': {'security_type': 'STK', 'exchange': 'TSE', 'code': '0050'}}\n",
      "Response Code: 0 | Event Code: 0 | Info: host '218.32.76.102:80', hostname '218.32.76.102:80' IP 218.32.76.102:80 (host 1 of 1) (host connection attempt 1 of 1) (total connection attempt 1 of 1) | Event: Session up\n"
     ]
    },
    {
     "data": {
      "text/plain": "Trade(contract=Stock(exchange=<Exchange.TSE: 'TSE'>, code='0050', symbol='TSE0050', name='元大台灣50', category='00', unit=1000, limit_up=135.9, limit_down=111.2, reference=123.55, update_date='2023/09/26', margin_trading_balance=7309, day_trade=<DayTrade.Yes: 'Yes'>), order=Order(action=<Action.Buy: 'Buy'>, price=18, quantity=1, id='09279b49', seqno='000005', ordno='000004', account=Account(account_type=<AccountType.Stock: 'S'>, person_id='H124049294', broker_id='9A95', account_id='2498095'), price_type=<StockPriceType.LMT: 'LMT'>, order_type=<OrderType.ROD: 'ROD'>), status=OrderStatus(id='09279b49', status=<Status.PendingSubmit: 'PendingSubmit'>, status_code='00', order_datetime=datetime.datetime(2023, 9, 26, 8, 31, 36, 628285), deals=[]))"
     },
     "execution_count": 8,
     "metadata": {},
     "output_type": "execute_result"
    }
   ],
   "source": [
    "# 下單\n",
    "trade = api.place_order(contract, order)\n",
    "trade"
   ],
   "metadata": {
    "collapsed": false,
    "ExecuteTime": {
     "end_time": "2023-09-26T00:31:36.177352800Z",
     "start_time": "2023-09-26T00:31:35.202803300Z"
    }
   },
   "id": "4d69b126bd8cc4c1"
  },
  {
   "cell_type": "code",
   "execution_count": null,
   "outputs": [],
   "source": [],
   "metadata": {
    "collapsed": false
   },
   "id": "b6581110ea50e519"
  }
 ],
 "metadata": {
  "kernelspec": {
   "display_name": "Python 3",
   "language": "python",
   "name": "python3"
  },
  "language_info": {
   "codemirror_mode": {
    "name": "ipython",
    "version": 2
   },
   "file_extension": ".py",
   "mimetype": "text/x-python",
   "name": "python",
   "nbconvert_exporter": "python",
   "pygments_lexer": "ipython2",
   "version": "2.7.6"
  }
 },
 "nbformat": 4,
 "nbformat_minor": 5
}
