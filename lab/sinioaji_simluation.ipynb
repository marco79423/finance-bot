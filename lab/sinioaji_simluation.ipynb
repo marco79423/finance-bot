{
 "cells": [
  {
   "cell_type": "code",
   "execution_count": 2,
   "id": "initial_id",
   "metadata": {
    "collapsed": true,
    "ExecuteTime": {
     "end_time": "2024-02-02T01:36:07.207708500Z",
     "start_time": "2024-02-02T01:36:06.366699400Z"
    }
   },
   "outputs": [
    {
     "name": "stdout",
     "output_type": "stream",
     "text": [
      "api_key 4ydUFmiQKUgDDDPRCTtgirTNYjzijWExNrRQZa2bcjBi\n",
      "secret_key 4BMCkQjRmVL5n7UnCwKbpe3EK36ky7424sjPn8oX9by7\n"
     ]
    },
    {
     "ename": "ConfigAttributeError",
     "evalue": "Missing key secret_key\n    full_key: core.tw_stock_trade.shioaji.secret_key\n    object_type=dict",
     "output_type": "error",
     "traceback": [
      "\u001B[1;31m---------------------------------------------------------------------------\u001B[0m",
      "\u001B[1;31mConfigAttributeError\u001B[0m                      Traceback (most recent call last)",
      "Cell \u001B[1;32mIn[2], line 11\u001B[0m\n\u001B[0;32m      7\u001B[0m \u001B[38;5;28mprint\u001B[39m(\u001B[38;5;124m'\u001B[39m\u001B[38;5;124mapi_key\u001B[39m\u001B[38;5;124m'\u001B[39m, infra\u001B[38;5;241m.\u001B[39mconf\u001B[38;5;241m.\u001B[39mcore\u001B[38;5;241m.\u001B[39mtw_stock_trade\u001B[38;5;241m.\u001B[39mshioaji\u001B[38;5;241m.\u001B[39mapi_key)\n\u001B[0;32m      8\u001B[0m \u001B[38;5;28mprint\u001B[39m(\u001B[38;5;124m'\u001B[39m\u001B[38;5;124msecret_key\u001B[39m\u001B[38;5;124m'\u001B[39m, infra\u001B[38;5;241m.\u001B[39mconf\u001B[38;5;241m.\u001B[39mcore\u001B[38;5;241m.\u001B[39mtw_stock_trade\u001B[38;5;241m.\u001B[39mshioaji\u001B[38;5;241m.\u001B[39mapi_secret)\n\u001B[0;32m      9\u001B[0m accounts \u001B[38;5;241m=\u001B[39m  api\u001B[38;5;241m.\u001B[39mlogin(\n\u001B[0;32m     10\u001B[0m     api_key\u001B[38;5;241m=\u001B[39minfra\u001B[38;5;241m.\u001B[39mconf\u001B[38;5;241m.\u001B[39mcore\u001B[38;5;241m.\u001B[39mtw_stock_trade\u001B[38;5;241m.\u001B[39mshioaji\u001B[38;5;241m.\u001B[39mapi_key,\n\u001B[1;32m---> 11\u001B[0m     secret_key\u001B[38;5;241m=\u001B[39m\u001B[43minfra\u001B[49m\u001B[38;5;241;43m.\u001B[39;49m\u001B[43mconf\u001B[49m\u001B[38;5;241;43m.\u001B[39;49m\u001B[43mcore\u001B[49m\u001B[38;5;241;43m.\u001B[39;49m\u001B[43mtw_stock_trade\u001B[49m\u001B[38;5;241;43m.\u001B[39;49m\u001B[43mshioaji\u001B[49m\u001B[38;5;241;43m.\u001B[39;49m\u001B[43msecret_key\u001B[49m,\n\u001B[0;32m     12\u001B[0m )\n\u001B[0;32m     13\u001B[0m \u001B[38;5;28mprint\u001B[39m(accounts)\n",
      "File \u001B[1;32m~\\projects\\finance-bot\\venv\\lib\\site-packages\\omegaconf\\dictconfig.py:355\u001B[0m, in \u001B[0;36mDictConfig.__getattr__\u001B[1;34m(self, key)\u001B[0m\n\u001B[0;32m    351\u001B[0m     \u001B[38;5;28;01mreturn\u001B[39;00m \u001B[38;5;28mself\u001B[39m\u001B[38;5;241m.\u001B[39m_get_impl(\n\u001B[0;32m    352\u001B[0m         key\u001B[38;5;241m=\u001B[39mkey, default_value\u001B[38;5;241m=\u001B[39m_DEFAULT_MARKER_, validate_key\u001B[38;5;241m=\u001B[39m\u001B[38;5;28;01mFalse\u001B[39;00m\n\u001B[0;32m    353\u001B[0m     )\n\u001B[0;32m    354\u001B[0m \u001B[38;5;28;01mexcept\u001B[39;00m ConfigKeyError \u001B[38;5;28;01mas\u001B[39;00m e:\n\u001B[1;32m--> 355\u001B[0m     \u001B[38;5;28;43mself\u001B[39;49m\u001B[38;5;241;43m.\u001B[39;49m\u001B[43m_format_and_raise\u001B[49m\u001B[43m(\u001B[49m\n\u001B[0;32m    356\u001B[0m \u001B[43m        \u001B[49m\u001B[43mkey\u001B[49m\u001B[38;5;241;43m=\u001B[39;49m\u001B[43mkey\u001B[49m\u001B[43m,\u001B[49m\u001B[43m \u001B[49m\u001B[43mvalue\u001B[49m\u001B[38;5;241;43m=\u001B[39;49m\u001B[38;5;28;43;01mNone\u001B[39;49;00m\u001B[43m,\u001B[49m\u001B[43m \u001B[49m\u001B[43mcause\u001B[49m\u001B[38;5;241;43m=\u001B[39;49m\u001B[43me\u001B[49m\u001B[43m,\u001B[49m\u001B[43m \u001B[49m\u001B[43mtype_override\u001B[49m\u001B[38;5;241;43m=\u001B[39;49m\u001B[43mConfigAttributeError\u001B[49m\n\u001B[0;32m    357\u001B[0m \u001B[43m    \u001B[49m\u001B[43m)\u001B[49m\n\u001B[0;32m    358\u001B[0m \u001B[38;5;28;01mexcept\u001B[39;00m \u001B[38;5;167;01mException\u001B[39;00m \u001B[38;5;28;01mas\u001B[39;00m e:\n\u001B[0;32m    359\u001B[0m     \u001B[38;5;28mself\u001B[39m\u001B[38;5;241m.\u001B[39m_format_and_raise(key\u001B[38;5;241m=\u001B[39mkey, value\u001B[38;5;241m=\u001B[39m\u001B[38;5;28;01mNone\u001B[39;00m, cause\u001B[38;5;241m=\u001B[39me)\n",
      "File \u001B[1;32m~\\projects\\finance-bot\\venv\\lib\\site-packages\\omegaconf\\base.py:231\u001B[0m, in \u001B[0;36mNode._format_and_raise\u001B[1;34m(self, key, value, cause, msg, type_override)\u001B[0m\n\u001B[0;32m    223\u001B[0m \u001B[38;5;28;01mdef\u001B[39;00m \u001B[38;5;21m_format_and_raise\u001B[39m(\n\u001B[0;32m    224\u001B[0m     \u001B[38;5;28mself\u001B[39m,\n\u001B[0;32m    225\u001B[0m     key: Any,\n\u001B[1;32m   (...)\u001B[0m\n\u001B[0;32m    229\u001B[0m     type_override: Any \u001B[38;5;241m=\u001B[39m \u001B[38;5;28;01mNone\u001B[39;00m,\n\u001B[0;32m    230\u001B[0m ) \u001B[38;5;241m-\u001B[39m\u001B[38;5;241m>\u001B[39m \u001B[38;5;28;01mNone\u001B[39;00m:\n\u001B[1;32m--> 231\u001B[0m     \u001B[43mformat_and_raise\u001B[49m\u001B[43m(\u001B[49m\n\u001B[0;32m    232\u001B[0m \u001B[43m        \u001B[49m\u001B[43mnode\u001B[49m\u001B[38;5;241;43m=\u001B[39;49m\u001B[38;5;28;43mself\u001B[39;49m\u001B[43m,\u001B[49m\n\u001B[0;32m    233\u001B[0m \u001B[43m        \u001B[49m\u001B[43mkey\u001B[49m\u001B[38;5;241;43m=\u001B[39;49m\u001B[43mkey\u001B[49m\u001B[43m,\u001B[49m\n\u001B[0;32m    234\u001B[0m \u001B[43m        \u001B[49m\u001B[43mvalue\u001B[49m\u001B[38;5;241;43m=\u001B[39;49m\u001B[43mvalue\u001B[49m\u001B[43m,\u001B[49m\n\u001B[0;32m    235\u001B[0m \u001B[43m        \u001B[49m\u001B[43mmsg\u001B[49m\u001B[38;5;241;43m=\u001B[39;49m\u001B[38;5;28;43mstr\u001B[39;49m\u001B[43m(\u001B[49m\u001B[43mcause\u001B[49m\u001B[43m)\u001B[49m\u001B[43m \u001B[49m\u001B[38;5;28;43;01mif\u001B[39;49;00m\u001B[43m \u001B[49m\u001B[43mmsg\u001B[49m\u001B[43m \u001B[49m\u001B[38;5;129;43;01mis\u001B[39;49;00m\u001B[43m \u001B[49m\u001B[38;5;28;43;01mNone\u001B[39;49;00m\u001B[43m \u001B[49m\u001B[38;5;28;43;01melse\u001B[39;49;00m\u001B[43m \u001B[49m\u001B[43mmsg\u001B[49m\u001B[43m,\u001B[49m\n\u001B[0;32m    236\u001B[0m \u001B[43m        \u001B[49m\u001B[43mcause\u001B[49m\u001B[38;5;241;43m=\u001B[39;49m\u001B[43mcause\u001B[49m\u001B[43m,\u001B[49m\n\u001B[0;32m    237\u001B[0m \u001B[43m        \u001B[49m\u001B[43mtype_override\u001B[49m\u001B[38;5;241;43m=\u001B[39;49m\u001B[43mtype_override\u001B[49m\u001B[43m,\u001B[49m\n\u001B[0;32m    238\u001B[0m \u001B[43m    \u001B[49m\u001B[43m)\u001B[49m\n\u001B[0;32m    239\u001B[0m     \u001B[38;5;28;01massert\u001B[39;00m \u001B[38;5;28;01mFalse\u001B[39;00m\n",
      "File \u001B[1;32m~\\projects\\finance-bot\\venv\\lib\\site-packages\\omegaconf\\_utils.py:899\u001B[0m, in \u001B[0;36mformat_and_raise\u001B[1;34m(node, key, value, msg, cause, type_override)\u001B[0m\n\u001B[0;32m    896\u001B[0m     ex\u001B[38;5;241m.\u001B[39mref_type \u001B[38;5;241m=\u001B[39m ref_type\n\u001B[0;32m    897\u001B[0m     ex\u001B[38;5;241m.\u001B[39mref_type_str \u001B[38;5;241m=\u001B[39m ref_type_str\n\u001B[1;32m--> 899\u001B[0m \u001B[43m_raise\u001B[49m\u001B[43m(\u001B[49m\u001B[43mex\u001B[49m\u001B[43m,\u001B[49m\u001B[43m \u001B[49m\u001B[43mcause\u001B[49m\u001B[43m)\u001B[49m\n",
      "File \u001B[1;32m~\\projects\\finance-bot\\venv\\lib\\site-packages\\omegaconf\\_utils.py:797\u001B[0m, in \u001B[0;36m_raise\u001B[1;34m(ex, cause)\u001B[0m\n\u001B[0;32m    795\u001B[0m \u001B[38;5;28;01melse\u001B[39;00m:\n\u001B[0;32m    796\u001B[0m     ex\u001B[38;5;241m.\u001B[39m__cause__ \u001B[38;5;241m=\u001B[39m \u001B[38;5;28;01mNone\u001B[39;00m\n\u001B[1;32m--> 797\u001B[0m \u001B[38;5;28;01mraise\u001B[39;00m ex\u001B[38;5;241m.\u001B[39mwith_traceback(sys\u001B[38;5;241m.\u001B[39mexc_info()[\u001B[38;5;241m2\u001B[39m])\n",
      "File \u001B[1;32m~\\projects\\finance-bot\\venv\\lib\\site-packages\\omegaconf\\dictconfig.py:351\u001B[0m, in \u001B[0;36mDictConfig.__getattr__\u001B[1;34m(self, key)\u001B[0m\n\u001B[0;32m    348\u001B[0m     \u001B[38;5;28;01mraise\u001B[39;00m \u001B[38;5;167;01mAttributeError\u001B[39;00m()\n\u001B[0;32m    350\u001B[0m \u001B[38;5;28;01mtry\u001B[39;00m:\n\u001B[1;32m--> 351\u001B[0m     \u001B[38;5;28;01mreturn\u001B[39;00m \u001B[38;5;28;43mself\u001B[39;49m\u001B[38;5;241;43m.\u001B[39;49m\u001B[43m_get_impl\u001B[49m\u001B[43m(\u001B[49m\n\u001B[0;32m    352\u001B[0m \u001B[43m        \u001B[49m\u001B[43mkey\u001B[49m\u001B[38;5;241;43m=\u001B[39;49m\u001B[43mkey\u001B[49m\u001B[43m,\u001B[49m\u001B[43m \u001B[49m\u001B[43mdefault_value\u001B[49m\u001B[38;5;241;43m=\u001B[39;49m\u001B[43m_DEFAULT_MARKER_\u001B[49m\u001B[43m,\u001B[49m\u001B[43m \u001B[49m\u001B[43mvalidate_key\u001B[49m\u001B[38;5;241;43m=\u001B[39;49m\u001B[38;5;28;43;01mFalse\u001B[39;49;00m\n\u001B[0;32m    353\u001B[0m \u001B[43m    \u001B[49m\u001B[43m)\u001B[49m\n\u001B[0;32m    354\u001B[0m \u001B[38;5;28;01mexcept\u001B[39;00m ConfigKeyError \u001B[38;5;28;01mas\u001B[39;00m e:\n\u001B[0;32m    355\u001B[0m     \u001B[38;5;28mself\u001B[39m\u001B[38;5;241m.\u001B[39m_format_and_raise(\n\u001B[0;32m    356\u001B[0m         key\u001B[38;5;241m=\u001B[39mkey, value\u001B[38;5;241m=\u001B[39m\u001B[38;5;28;01mNone\u001B[39;00m, cause\u001B[38;5;241m=\u001B[39me, type_override\u001B[38;5;241m=\u001B[39mConfigAttributeError\n\u001B[0;32m    357\u001B[0m     )\n",
      "File \u001B[1;32m~\\projects\\finance-bot\\venv\\lib\\site-packages\\omegaconf\\dictconfig.py:442\u001B[0m, in \u001B[0;36mDictConfig._get_impl\u001B[1;34m(self, key, default_value, validate_key)\u001B[0m\n\u001B[0;32m    438\u001B[0m \u001B[38;5;28;01mdef\u001B[39;00m \u001B[38;5;21m_get_impl\u001B[39m(\n\u001B[0;32m    439\u001B[0m     \u001B[38;5;28mself\u001B[39m, key: DictKeyType, default_value: Any, validate_key: \u001B[38;5;28mbool\u001B[39m \u001B[38;5;241m=\u001B[39m \u001B[38;5;28;01mTrue\u001B[39;00m\n\u001B[0;32m    440\u001B[0m ) \u001B[38;5;241m-\u001B[39m\u001B[38;5;241m>\u001B[39m Any:\n\u001B[0;32m    441\u001B[0m     \u001B[38;5;28;01mtry\u001B[39;00m:\n\u001B[1;32m--> 442\u001B[0m         node \u001B[38;5;241m=\u001B[39m \u001B[38;5;28;43mself\u001B[39;49m\u001B[38;5;241;43m.\u001B[39;49m\u001B[43m_get_child\u001B[49m\u001B[43m(\u001B[49m\n\u001B[0;32m    443\u001B[0m \u001B[43m            \u001B[49m\u001B[43mkey\u001B[49m\u001B[38;5;241;43m=\u001B[39;49m\u001B[43mkey\u001B[49m\u001B[43m,\u001B[49m\u001B[43m \u001B[49m\u001B[43mthrow_on_missing_key\u001B[49m\u001B[38;5;241;43m=\u001B[39;49m\u001B[38;5;28;43;01mTrue\u001B[39;49;00m\u001B[43m,\u001B[49m\u001B[43m \u001B[49m\u001B[43mvalidate_key\u001B[49m\u001B[38;5;241;43m=\u001B[39;49m\u001B[43mvalidate_key\u001B[49m\n\u001B[0;32m    444\u001B[0m \u001B[43m        \u001B[49m\u001B[43m)\u001B[49m\n\u001B[0;32m    445\u001B[0m     \u001B[38;5;28;01mexcept\u001B[39;00m (ConfigAttributeError, ConfigKeyError):\n\u001B[0;32m    446\u001B[0m         \u001B[38;5;28;01mif\u001B[39;00m default_value \u001B[38;5;129;01mis\u001B[39;00m \u001B[38;5;129;01mnot\u001B[39;00m _DEFAULT_MARKER_:\n",
      "File \u001B[1;32m~\\projects\\finance-bot\\venv\\lib\\site-packages\\omegaconf\\basecontainer.py:73\u001B[0m, in \u001B[0;36mBaseContainer._get_child\u001B[1;34m(self, key, validate_access, validate_key, throw_on_missing_value, throw_on_missing_key)\u001B[0m\n\u001B[0;32m     64\u001B[0m \u001B[38;5;28;01mdef\u001B[39;00m \u001B[38;5;21m_get_child\u001B[39m(\n\u001B[0;32m     65\u001B[0m     \u001B[38;5;28mself\u001B[39m,\n\u001B[0;32m     66\u001B[0m     key: Any,\n\u001B[1;32m   (...)\u001B[0m\n\u001B[0;32m     70\u001B[0m     throw_on_missing_key: \u001B[38;5;28mbool\u001B[39m \u001B[38;5;241m=\u001B[39m \u001B[38;5;28;01mFalse\u001B[39;00m,\n\u001B[0;32m     71\u001B[0m ) \u001B[38;5;241m-\u001B[39m\u001B[38;5;241m>\u001B[39m Union[Optional[Node], List[Optional[Node]]]:\n\u001B[0;32m     72\u001B[0m \u001B[38;5;250m    \u001B[39m\u001B[38;5;124;03m\"\"\"Like _get_node, passing through to the nearest concrete Node.\"\"\"\u001B[39;00m\n\u001B[1;32m---> 73\u001B[0m     child \u001B[38;5;241m=\u001B[39m \u001B[38;5;28;43mself\u001B[39;49m\u001B[38;5;241;43m.\u001B[39;49m\u001B[43m_get_node\u001B[49m\u001B[43m(\u001B[49m\n\u001B[0;32m     74\u001B[0m \u001B[43m        \u001B[49m\u001B[43mkey\u001B[49m\u001B[38;5;241;43m=\u001B[39;49m\u001B[43mkey\u001B[49m\u001B[43m,\u001B[49m\n\u001B[0;32m     75\u001B[0m \u001B[43m        \u001B[49m\u001B[43mvalidate_access\u001B[49m\u001B[38;5;241;43m=\u001B[39;49m\u001B[43mvalidate_access\u001B[49m\u001B[43m,\u001B[49m\n\u001B[0;32m     76\u001B[0m \u001B[43m        \u001B[49m\u001B[43mvalidate_key\u001B[49m\u001B[38;5;241;43m=\u001B[39;49m\u001B[43mvalidate_key\u001B[49m\u001B[43m,\u001B[49m\n\u001B[0;32m     77\u001B[0m \u001B[43m        \u001B[49m\u001B[43mthrow_on_missing_value\u001B[49m\u001B[38;5;241;43m=\u001B[39;49m\u001B[43mthrow_on_missing_value\u001B[49m\u001B[43m,\u001B[49m\n\u001B[0;32m     78\u001B[0m \u001B[43m        \u001B[49m\u001B[43mthrow_on_missing_key\u001B[49m\u001B[38;5;241;43m=\u001B[39;49m\u001B[43mthrow_on_missing_key\u001B[49m\u001B[43m,\u001B[49m\n\u001B[0;32m     79\u001B[0m \u001B[43m    \u001B[49m\u001B[43m)\u001B[49m\n\u001B[0;32m     80\u001B[0m     \u001B[38;5;28;01mif\u001B[39;00m \u001B[38;5;28misinstance\u001B[39m(child, UnionNode) \u001B[38;5;129;01mand\u001B[39;00m \u001B[38;5;129;01mnot\u001B[39;00m _is_special(child):\n\u001B[0;32m     81\u001B[0m         value \u001B[38;5;241m=\u001B[39m child\u001B[38;5;241m.\u001B[39m_value()\n",
      "File \u001B[1;32m~\\projects\\finance-bot\\venv\\lib\\site-packages\\omegaconf\\dictconfig.py:480\u001B[0m, in \u001B[0;36mDictConfig._get_node\u001B[1;34m(self, key, validate_access, validate_key, throw_on_missing_value, throw_on_missing_key)\u001B[0m\n\u001B[0;32m    478\u001B[0m \u001B[38;5;28;01mif\u001B[39;00m value \u001B[38;5;129;01mis\u001B[39;00m \u001B[38;5;28;01mNone\u001B[39;00m:\n\u001B[0;32m    479\u001B[0m     \u001B[38;5;28;01mif\u001B[39;00m throw_on_missing_key:\n\u001B[1;32m--> 480\u001B[0m         \u001B[38;5;28;01mraise\u001B[39;00m ConfigKeyError(\u001B[38;5;124mf\u001B[39m\u001B[38;5;124m\"\u001B[39m\u001B[38;5;124mMissing key \u001B[39m\u001B[38;5;132;01m{\u001B[39;00mkey\u001B[38;5;132;01m!s}\u001B[39;00m\u001B[38;5;124m\"\u001B[39m)\n\u001B[0;32m    481\u001B[0m \u001B[38;5;28;01melif\u001B[39;00m throw_on_missing_value \u001B[38;5;129;01mand\u001B[39;00m value\u001B[38;5;241m.\u001B[39m_is_missing():\n\u001B[0;32m    482\u001B[0m     \u001B[38;5;28;01mraise\u001B[39;00m MissingMandatoryValue(\u001B[38;5;124m\"\u001B[39m\u001B[38;5;124mMissing mandatory value: $KEY\u001B[39m\u001B[38;5;124m\"\u001B[39m)\n",
      "\u001B[1;31mConfigAttributeError\u001B[0m: Missing key secret_key\n    full_key: core.tw_stock_trade.shioaji.secret_key\n    object_type=dict"
     ]
    }
   ],
   "source": [
    "from finance_bot.infrastructure import infra\n",
    "import shioaji as sj\n",
    "\n",
    "# api = sj.Shioaji(simulation=True)\n",
    "api = sj.Shioaji()\n",
    "\n",
    "print('api_key', infra.conf.core.tw_stock_trade.shioaji.api_key)\n",
    "print('secret_key', infra.conf.core.tw_stock_trade.shioaji.api_secret)\n",
    "accounts =  api.login(\n",
    "    api_key=infra.conf.core.tw_stock_trade.shioaji.api_key,\n",
    "    secret_key=infra.conf.core.tw_stock_trade.shioaji.secret_key,\n",
    ")\n",
    "print(accounts)"
   ]
  },
  {
   "cell_type": "code",
   "execution_count": 3,
   "outputs": [
    {
     "data": {
      "text/plain": "True"
     },
     "execution_count": 3,
     "metadata": {},
     "output_type": "execute_result"
    }
   ],
   "source": [
    "ca_path = infra.path.config_folder / 'Sinopac.pfx'\n",
    "result = api.activate_ca(\n",
    "    ca_path=ca_path,\n",
    "    ca_passwd=infra.conf.core.tw_stock_trade.shioaji.ca_password,\n",
    "    person_id=infra.conf.core.tw_stock_trade.shioaji.person_id,\n",
    ")\n",
    "result"
   ],
   "metadata": {
    "collapsed": false,
    "ExecuteTime": {
     "end_time": "2023-12-05T14:02:34.097666600Z",
     "start_time": "2023-12-05T14:02:34.048667900Z"
    }
   },
   "id": "cbeca2294a33b989"
  },
  {
   "cell_type": "code",
   "execution_count": 2,
   "outputs": [
    {
     "data": {
      "text/plain": "Stock(exchange=<Exchange.TSE: 'TSE'>, code='0050', symbol='TSE0050', name='元大台灣50', category='00', unit=1000, limit_up=144.45, limit_down=118.25, reference=131.35, update_date='2023/12/01', margin_trading_balance=6014, day_trade=<DayTrade.Yes: 'Yes'>)"
     },
     "execution_count": 2,
     "metadata": {},
     "output_type": "execute_result"
    }
   ],
   "source": [
    "contract = api.Contracts.Stocks.TSE['0050']\n",
    "contract"
   ],
   "metadata": {
    "collapsed": false,
    "ExecuteTime": {
     "end_time": "2023-12-02T07:15:33.349038500Z",
     "start_time": "2023-12-02T07:15:33.328521900Z"
    }
   },
   "id": "d5efc74ce70e83c6"
  },
  {
   "cell_type": "code",
   "execution_count": 7,
   "outputs": [
    {
     "data": {
      "text/plain": "Order(action=<Action.Buy: 'Buy'>, price=18, quantity=1, account=StockAccount(person_id='H124049294', broker_id='9A95', account_id='2498095', username='李袁碩'), price_type=<StockPriceType.LMT: 'LMT'>, order_type=<OrderType.ROD: 'ROD'>)"
     },
     "execution_count": 7,
     "metadata": {},
     "output_type": "execute_result"
    }
   ],
   "source": [
    "order = api.Order(\n",
    "    price=18,                                       # 價格\n",
    "    quantity=1,                                     # 數量\n",
    "    action=sj.constant.Action.Buy,                  # 買賣別\n",
    "    price_type=sj.constant.StockPriceType.LMT,      # 委託價格類別\n",
    "    order_type=sj.constant.OrderType.ROD,           # 委託條件\n",
    "    account=api.stock_account                       # 下單帳號\n",
    ")\n",
    "order"
   ],
   "metadata": {
    "collapsed": false,
    "ExecuteTime": {
     "end_time": "2023-09-26T00:31:24.836936100Z",
     "start_time": "2023-09-26T00:31:24.793939Z"
    }
   },
   "id": "dcbdaa484ac42beb"
  },
  {
   "cell_type": "code",
   "execution_count": 8,
   "outputs": [
    {
     "name": "stdout",
     "output_type": "stream",
     "text": [
      "OrderState.StockOrder {'operation': {'op_type': 'New', 'op_code': '88', 'op_msg': '價格超過漲跌幅範圍'}, 'order': {'id': '09279b49', 'seqno': '000005', 'ordno': '000004', 'action': 'Buy', 'price': 18, 'quantity': 1, 'order_cond': 'Cash', 'order_lot': 'Common', 'custom_field': '', 'order_type': 'ROD', 'price_type': 'LMT'}, 'status': {'id': '09279b49', 'exchange_ts': 1695688296.628285, 'order_quantity': 0, 'modified_price': 0, 'cancel_quantity': 0, 'web_id': '137'}, 'contract': {'security_type': 'STK', 'exchange': 'TSE', 'code': '0050'}}\n",
      "Response Code: 0 | Event Code: 0 | Info: host '218.32.76.102:80', hostname '218.32.76.102:80' IP 218.32.76.102:80 (host 1 of 1) (host connection attempt 1 of 1) (total connection attempt 1 of 1) | Event: Session up\n"
     ]
    },
    {
     "data": {
      "text/plain": "Trade(contract=Stock(exchange=<Exchange.TSE: 'TSE'>, code='0050', symbol='TSE0050', name='元大台灣50', category='00', unit=1000, limit_up=135.9, limit_down=111.2, reference=123.55, update_date='2023/09/26', margin_trading_balance=7309, day_trade=<DayTrade.Yes: 'Yes'>), order=Order(action=<Action.Buy: 'Buy'>, price=18, quantity=1, id='09279b49', seqno='000005', ordno='000004', account=Account(account_type=<AccountType.Stock: 'S'>, person_id='H124049294', broker_id='9A95', account_id='2498095'), price_type=<StockPriceType.LMT: 'LMT'>, order_type=<OrderType.ROD: 'ROD'>), status=OrderStatus(id='09279b49', status=<Status.PendingSubmit: 'PendingSubmit'>, status_code='00', order_datetime=datetime.datetime(2023, 9, 26, 8, 31, 36, 628285), deals=[]))"
     },
     "execution_count": 8,
     "metadata": {},
     "output_type": "execute_result"
    }
   ],
   "source": [
    "# 下單\n",
    "trade = api.place_order(contract, order)\n",
    "trade"
   ],
   "metadata": {
    "collapsed": false,
    "ExecuteTime": {
     "end_time": "2023-09-26T00:31:36.177352800Z",
     "start_time": "2023-09-26T00:31:35.202803300Z"
    }
   },
   "id": "4d69b126bd8cc4c1"
  },
  {
   "cell_type": "code",
   "execution_count": 8,
   "outputs": [],
   "source": [
    "# api.update_status(api.stock_account)\n",
    "# api.list_trades()\n",
    "\n",
    "balance = api.account_balance()\n"
   ],
   "metadata": {
    "collapsed": false,
    "ExecuteTime": {
     "end_time": "2023-12-05T14:21:57.264724300Z",
     "start_time": "2023-12-05T14:21:55.732918600Z"
    }
   },
   "id": "b6581110ea50e519"
  },
  {
   "cell_type": "code",
   "execution_count": 11,
   "outputs": [
    {
     "data": {
      "text/plain": "StockPosition(id=0, code='2371', direction=<Action.Buy: 'Buy'>, quantity=2, price=38.35, last_price=41.65, pnl=6224.0, yd_quantity=2, margin_purchase_amount=0, collateral=0, short_sale_margin=0, interest=0)"
     },
     "execution_count": 11,
     "metadata": {},
     "output_type": "execute_result"
    }
   ],
   "source": [
    "positions = api.list_positions(api.stock_account)\n",
    "positions[0]"
   ],
   "metadata": {
    "collapsed": false,
    "ExecuteTime": {
     "end_time": "2023-12-05T14:22:06.257317100Z",
     "start_time": "2023-12-05T14:22:06.243316900Z"
    }
   },
   "id": "a85c545cac6d502d"
  }
 ],
 "metadata": {
  "kernelspec": {
   "display_name": "Python 3",
   "language": "python",
   "name": "python3"
  },
  "language_info": {
   "codemirror_mode": {
    "name": "ipython",
    "version": 2
   },
   "file_extension": ".py",
   "mimetype": "text/x-python",
   "name": "python",
   "nbconvert_exporter": "python",
   "pygments_lexer": "ipython2",
   "version": "2.7.6"
  }
 },
 "nbformat": 4,
 "nbformat_minor": 5
}
