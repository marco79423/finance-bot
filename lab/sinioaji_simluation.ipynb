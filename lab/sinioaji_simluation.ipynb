{
 "cells": [
  {
   "cell_type": "code",
   "execution_count": 3,
   "id": "initial_id",
   "metadata": {
    "collapsed": true,
    "ExecuteTime": {
     "end_time": "2024-02-02T01:37:07.581246500Z",
     "start_time": "2024-02-02T01:37:06.511955700Z"
    }
   },
   "outputs": [
    {
     "name": "stdout",
     "output_type": "stream",
     "text": [
      "api_key 4ydUFmiQKUgDDDPRCTtgirTNYjzijWExNrRQZa2bcjBi\n",
      "secret_key 4BMCkQjRmVL5n7UnCwKbpe3EK36ky7424sjPn8oX9by7\n",
      "Response Code: 0 | Event Code: 0 | Info: host '203.66.91.161:80', hostname '203.66.91.161:80' IP 203.66.91.161:80 (host 1 of 1) (host connection attempt 1 of 1) (total connection attempt 1 of 1) | Event: Session up\n",
      "[StockAccount(person_id='H124049294', broker_id='9A95', account_id='2498095', signed=True, username='李袁碩')]\n"
     ]
    }
   ],
   "source": [
    "from finance_bot.infrastructure import infra\n",
    "import shioaji as sj\n",
    "\n",
    "# api = sj.Shioaji(simulation=True)\n",
    "api = sj.Shioaji()\n",
    "\n",
    "print('api_key', infra.conf.core.tw_stock_trade.shioaji.api_key)\n",
    "print('secret_key', infra.conf.core.tw_stock_trade.shioaji.api_secret)\n",
    "accounts =  api.login(\n",
    "    api_key=infra.conf.core.tw_stock_trade.shioaji.api_key,\n",
    "    secret_key=infra.conf.core.tw_stock_trade.shioaji.api_secret,\n",
    ")\n",
    "print(accounts)"
   ]
  },
  {
   "cell_type": "code",
   "execution_count": 5,
   "outputs": [
    {
     "ename": "ValueError",
     "evalue": "ReadFile Error The system cannot find the file specified. (os error 2)",
     "output_type": "error",
     "traceback": [
      "\u001B[1;31m---------------------------------------------------------------------------\u001B[0m",
      "\u001B[1;31mValueError\u001B[0m                                Traceback (most recent call last)",
      "Cell \u001B[1;32mIn[5], line 2\u001B[0m\n\u001B[0;32m      1\u001B[0m ca_path \u001B[38;5;241m=\u001B[39m infra\u001B[38;5;241m.\u001B[39mpath\u001B[38;5;241m.\u001B[39mconfig_folder \u001B[38;5;241m/\u001B[39m \u001B[38;5;124m'\u001B[39m\u001B[38;5;124mSinopac.pfx\u001B[39m\u001B[38;5;124m'\u001B[39m\n\u001B[1;32m----> 2\u001B[0m result \u001B[38;5;241m=\u001B[39m \u001B[43mapi\u001B[49m\u001B[38;5;241;43m.\u001B[39;49m\u001B[43mactivate_ca\u001B[49m\u001B[43m(\u001B[49m\n\u001B[0;32m      3\u001B[0m \u001B[43m    \u001B[49m\u001B[43mca_path\u001B[49m\u001B[38;5;241;43m=\u001B[39;49m\u001B[38;5;28;43mstr\u001B[39;49m\u001B[43m(\u001B[49m\u001B[43mca_path\u001B[49m\u001B[43m)\u001B[49m\u001B[43m,\u001B[49m\n\u001B[0;32m      4\u001B[0m \u001B[43m    \u001B[49m\u001B[43mca_passwd\u001B[49m\u001B[38;5;241;43m=\u001B[39;49m\u001B[43minfra\u001B[49m\u001B[38;5;241;43m.\u001B[39;49m\u001B[43mconf\u001B[49m\u001B[38;5;241;43m.\u001B[39;49m\u001B[43mcore\u001B[49m\u001B[38;5;241;43m.\u001B[39;49m\u001B[43mtw_stock_trade\u001B[49m\u001B[38;5;241;43m.\u001B[39;49m\u001B[43mshioaji\u001B[49m\u001B[38;5;241;43m.\u001B[39;49m\u001B[43mca_password\u001B[49m\u001B[43m,\u001B[49m\n\u001B[0;32m      5\u001B[0m \u001B[43m    \u001B[49m\u001B[43mperson_id\u001B[49m\u001B[38;5;241;43m=\u001B[39;49m\u001B[43minfra\u001B[49m\u001B[38;5;241;43m.\u001B[39;49m\u001B[43mconf\u001B[49m\u001B[38;5;241;43m.\u001B[39;49m\u001B[43mcore\u001B[49m\u001B[38;5;241;43m.\u001B[39;49m\u001B[43mtw_stock_trade\u001B[49m\u001B[38;5;241;43m.\u001B[39;49m\u001B[43mshioaji\u001B[49m\u001B[38;5;241;43m.\u001B[39;49m\u001B[43mperson_id\u001B[49m\u001B[43m,\u001B[49m\n\u001B[0;32m      6\u001B[0m \u001B[43m)\u001B[49m\n\u001B[0;32m      7\u001B[0m result\n",
      "File \u001B[1;32m~\\projects\\finance-bot\\venv\\lib\\site-packages\\shioaji\\shioaji.py:370\u001B[0m, in \u001B[0;36mShioaji.activate_ca\u001B[1;34m(self, ca_path, ca_passwd, person_id, store)\u001B[0m\n\u001B[0;32m    362\u001B[0m \u001B[38;5;28;01mdef\u001B[39;00m \u001B[38;5;21mactivate_ca\u001B[39m(\u001B[38;5;28mself\u001B[39m, ca_path: \u001B[38;5;28mstr\u001B[39m, ca_passwd: \u001B[38;5;28mstr\u001B[39m, person_id: \u001B[38;5;28mstr\u001B[39m \u001B[38;5;241m=\u001B[39m \u001B[38;5;124m\"\u001B[39m\u001B[38;5;124m\"\u001B[39m, store: \u001B[38;5;28mint\u001B[39m \u001B[38;5;241m=\u001B[39m \u001B[38;5;241m0\u001B[39m):\n\u001B[0;32m    363\u001B[0m \u001B[38;5;250m    \u001B[39m\u001B[38;5;124;03m\"\"\"activate your ca for trading\u001B[39;00m\n\u001B[0;32m    364\u001B[0m \n\u001B[0;32m    365\u001B[0m \u001B[38;5;124;03m    Args:\u001B[39;00m\n\u001B[1;32m   (...)\u001B[0m\n\u001B[0;32m    368\u001B[0m \u001B[38;5;124;03m        ca_passwd (str): password of your ca\u001B[39;00m\n\u001B[0;32m    369\u001B[0m \u001B[38;5;124;03m    \"\"\"\u001B[39;00m\n\u001B[1;32m--> 370\u001B[0m     res \u001B[38;5;241m=\u001B[39m \u001B[38;5;28;43mself\u001B[39;49m\u001B[38;5;241;43m.\u001B[39;49m\u001B[43m_solace\u001B[49m\u001B[38;5;241;43m.\u001B[39;49m\u001B[43mactivate_ca\u001B[49m\u001B[43m(\u001B[49m\u001B[43mca_path\u001B[49m\u001B[43m,\u001B[49m\u001B[43m \u001B[49m\u001B[43mca_passwd\u001B[49m\u001B[43m,\u001B[49m\u001B[43m \u001B[49m\u001B[43mperson_id\u001B[49m\u001B[43m,\u001B[49m\u001B[43m \u001B[49m\u001B[43mstore\u001B[49m\u001B[43m)\u001B[49m\n\u001B[0;32m    371\u001B[0m     \u001B[38;5;28;01mreturn\u001B[39;00m res\n",
      "File \u001B[1;32mshioaji\\backend\\solace\\api.pyx:346\u001B[0m, in \u001B[0;36mshioaji.backend.solace.api.SolaceAPI.activate_ca\u001B[1;34m()\u001B[0m\n",
      "\u001B[1;31mValueError\u001B[0m: ReadFile Error The system cannot find the file specified. (os error 2)"
     ]
    }
   ],
   "source": [
    "ca_path = infra.path.config_folder / 'Sinopac.pfx'\n",
    "result = api.activate_ca(\n",
    "    ca_path=str(ca_path),\n",
    "    ca_passwd=infra.conf.core.tw_stock_trade.shioaji.ca_password,\n",
    "    person_id=infra.conf.core.tw_stock_trade.shioaji.person_id,\n",
    ")\n",
    "result"
   ],
   "metadata": {
    "collapsed": false,
    "ExecuteTime": {
     "end_time": "2024-02-02T01:37:29.689760600Z",
     "start_time": "2024-02-02T01:37:29.610052500Z"
    }
   },
   "id": "cbeca2294a33b989"
  },
  {
   "cell_type": "code",
   "execution_count": 2,
   "outputs": [
    {
     "data": {
      "text/plain": "Stock(exchange=<Exchange.TSE: 'TSE'>, code='0050', symbol='TSE0050', name='元大台灣50', category='00', unit=1000, limit_up=144.45, limit_down=118.25, reference=131.35, update_date='2023/12/01', margin_trading_balance=6014, day_trade=<DayTrade.Yes: 'Yes'>)"
     },
     "execution_count": 2,
     "metadata": {},
     "output_type": "execute_result"
    }
   ],
   "source": [
    "contract = api.Contracts.Stocks.TSE['0050']\n",
    "contract"
   ],
   "metadata": {
    "collapsed": false,
    "ExecuteTime": {
     "end_time": "2023-12-02T07:15:33.349038500Z",
     "start_time": "2023-12-02T07:15:33.328521900Z"
    }
   },
   "id": "d5efc74ce70e83c6"
  },
  {
   "cell_type": "code",
   "execution_count": 7,
   "outputs": [
    {
     "data": {
      "text/plain": "Order(action=<Action.Buy: 'Buy'>, price=18, quantity=1, account=StockAccount(person_id='H124049294', broker_id='9A95', account_id='2498095', username='李袁碩'), price_type=<StockPriceType.LMT: 'LMT'>, order_type=<OrderType.ROD: 'ROD'>)"
     },
     "execution_count": 7,
     "metadata": {},
     "output_type": "execute_result"
    }
   ],
   "source": [
    "order = api.Order(\n",
    "    price=18,                                       # 價格\n",
    "    quantity=1,                                     # 數量\n",
    "    action=sj.constant.Action.Buy,                  # 買賣別\n",
    "    price_type=sj.constant.StockPriceType.LMT,      # 委託價格類別\n",
    "    order_type=sj.constant.OrderType.ROD,           # 委託條件\n",
    "    account=api.stock_account                       # 下單帳號\n",
    ")\n",
    "order"
   ],
   "metadata": {
    "collapsed": false,
    "ExecuteTime": {
     "end_time": "2023-09-26T00:31:24.836936100Z",
     "start_time": "2023-09-26T00:31:24.793939Z"
    }
   },
   "id": "dcbdaa484ac42beb"
  },
  {
   "cell_type": "code",
   "execution_count": 8,
   "outputs": [
    {
     "name": "stdout",
     "output_type": "stream",
     "text": [
      "OrderState.StockOrder {'operation': {'op_type': 'New', 'op_code': '88', 'op_msg': '價格超過漲跌幅範圍'}, 'order': {'id': '09279b49', 'seqno': '000005', 'ordno': '000004', 'action': 'Buy', 'price': 18, 'quantity': 1, 'order_cond': 'Cash', 'order_lot': 'Common', 'custom_field': '', 'order_type': 'ROD', 'price_type': 'LMT'}, 'status': {'id': '09279b49', 'exchange_ts': 1695688296.628285, 'order_quantity': 0, 'modified_price': 0, 'cancel_quantity': 0, 'web_id': '137'}, 'contract': {'security_type': 'STK', 'exchange': 'TSE', 'code': '0050'}}\n",
      "Response Code: 0 | Event Code: 0 | Info: host '218.32.76.102:80', hostname '218.32.76.102:80' IP 218.32.76.102:80 (host 1 of 1) (host connection attempt 1 of 1) (total connection attempt 1 of 1) | Event: Session up\n"
     ]
    },
    {
     "data": {
      "text/plain": "Trade(contract=Stock(exchange=<Exchange.TSE: 'TSE'>, code='0050', symbol='TSE0050', name='元大台灣50', category='00', unit=1000, limit_up=135.9, limit_down=111.2, reference=123.55, update_date='2023/09/26', margin_trading_balance=7309, day_trade=<DayTrade.Yes: 'Yes'>), order=Order(action=<Action.Buy: 'Buy'>, price=18, quantity=1, id='09279b49', seqno='000005', ordno='000004', account=Account(account_type=<AccountType.Stock: 'S'>, person_id='H124049294', broker_id='9A95', account_id='2498095'), price_type=<StockPriceType.LMT: 'LMT'>, order_type=<OrderType.ROD: 'ROD'>), status=OrderStatus(id='09279b49', status=<Status.PendingSubmit: 'PendingSubmit'>, status_code='00', order_datetime=datetime.datetime(2023, 9, 26, 8, 31, 36, 628285), deals=[]))"
     },
     "execution_count": 8,
     "metadata": {},
     "output_type": "execute_result"
    }
   ],
   "source": [
    "# 下單\n",
    "trade = api.place_order(contract, order)\n",
    "trade"
   ],
   "metadata": {
    "collapsed": false,
    "ExecuteTime": {
     "end_time": "2023-09-26T00:31:36.177352800Z",
     "start_time": "2023-09-26T00:31:35.202803300Z"
    }
   },
   "id": "4d69b126bd8cc4c1"
  },
  {
   "cell_type": "code",
   "execution_count": 8,
   "outputs": [],
   "source": [
    "# api.update_status(api.stock_account)\n",
    "# api.list_trades()\n",
    "\n",
    "balance = api.account_balance()\n"
   ],
   "metadata": {
    "collapsed": false,
    "ExecuteTime": {
     "end_time": "2023-12-05T14:21:57.264724300Z",
     "start_time": "2023-12-05T14:21:55.732918600Z"
    }
   },
   "id": "b6581110ea50e519"
  },
  {
   "cell_type": "code",
   "execution_count": 11,
   "outputs": [
    {
     "data": {
      "text/plain": "StockPosition(id=0, code='2371', direction=<Action.Buy: 'Buy'>, quantity=2, price=38.35, last_price=41.65, pnl=6224.0, yd_quantity=2, margin_purchase_amount=0, collateral=0, short_sale_margin=0, interest=0)"
     },
     "execution_count": 11,
     "metadata": {},
     "output_type": "execute_result"
    }
   ],
   "source": [
    "positions = api.list_positions(api.stock_account)\n",
    "positions[0]"
   ],
   "metadata": {
    "collapsed": false,
    "ExecuteTime": {
     "end_time": "2023-12-05T14:22:06.257317100Z",
     "start_time": "2023-12-05T14:22:06.243316900Z"
    }
   },
   "id": "a85c545cac6d502d"
  }
 ],
 "metadata": {
  "kernelspec": {
   "display_name": "Python 3",
   "language": "python",
   "name": "python3"
  },
  "language_info": {
   "codemirror_mode": {
    "name": "ipython",
    "version": 2
   },
   "file_extension": ".py",
   "mimetype": "text/x-python",
   "name": "python",
   "nbconvert_exporter": "python",
   "pygments_lexer": "ipython2",
   "version": "2.7.6"
  }
 },
 "nbformat": 4,
 "nbformat_minor": 5
}
