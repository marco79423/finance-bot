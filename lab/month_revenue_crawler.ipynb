{
 "cells": [
  {
   "cell_type": "markdown",
   "metadata": {},
   "source": []
  },
  {
   "cell_type": "code",
   "execution_count": 15,
   "metadata": {
    "ExecuteTime": {
     "end_time": "2023-08-05T02:58:02.105084600Z",
     "start_time": "2023-08-05T02:58:02.026085500Z"
    }
   },
   "outputs": [
    {
     "name": "stdout",
     "output_type": "stream",
     "text": [
      "     stock_id  revenue\n",
      "0        1256   577090\n",
      "1        1309  1094051\n",
      "2        1342   188476\n",
      "3        1414    44586\n",
      "4        1436    37887\n",
      "..        ...      ...\n",
      "104      8163  2297895\n",
      "105      8215  1531080\n",
      "106      8374   247134\n",
      "107      8466   262733\n",
      "108      8940   119031\n",
      "\n",
      "[109 rows x 2 columns]\n"
     ]
    }
   ],
   "source": [
    "import io\n",
    "\n",
    "import pandas as pd\n",
    "import requests\n",
    "from fake_useragent import UserAgent\n",
    "\n",
    "ua = UserAgent()\n",
    "res = requests.post(\n",
    "    'https://mops.twse.com.tw/server-java/FileDownLoad',\n",
    "    data={\n",
    "        'step': 9,  # 不知啥用的\n",
    "        'functionName': 'show_file2',\n",
    "        'filePath': '/t21/sii/',\n",
    "        'fileName': 't21sc03_112_7.csv',\n",
    "    },\n",
    "    headers={\n",
    "        'user-agent': ua.random\n",
    "    }\n",
    ")\n",
    "res.encoding = 'big-5'\n",
    "df = pd.read_csv(io.StringIO(res.text))\n",
    "\n",
    "df = df[['公司代號', '營業收入-當月營收']]\n",
    "df = df.rename(columns={\n",
    "    '公司代號': 'stock_id',\n",
    "    '營業收入-當月營收': 'revenue',\n",
    "})\n",
    "print(df)"
   ]
  }
 ],
 "metadata": {
  "kernelspec": {
   "display_name": "Python 3 (ipykernel)",
   "language": "python",
   "name": "python3"
  },
  "language_info": {
   "codemirror_mode": {
    "name": "ipython",
    "version": 3
   },
   "file_extension": ".py",
   "mimetype": "text/x-python",
   "name": "python",
   "nbconvert_exporter": "python",
   "pygments_lexer": "ipython3",
   "version": "3.10.11"
  }
 },
 "nbformat": 4,
 "nbformat_minor": 1
}
