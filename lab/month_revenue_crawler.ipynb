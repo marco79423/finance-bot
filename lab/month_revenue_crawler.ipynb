{
 "cells": [
  {
   "cell_type": "markdown",
   "metadata": {},
   "source": []
  },
  {
   "cell_type": "code",
   "metadata": {},
   "source": [
    "import io\n",
    "\n",
    "import pandas as pd\n",
    "import requests\n",
    "from fake_useragent import UserAgent\n",
    "\n",
    "ua = UserAgent()\n",
    "res = requests.post(\n",
    "    'https://mopsov.twse.com.tw/server-java/FileDownLoad',\n",
    "    data={\n",
    "        'step': 9,  # 不知啥用的\n",
    "        'functionName': 'show_file2',\n",
    "        'filePath': '/t21/sii/',\n",
    "        'fileName': 't21sc03_114_1.csv',\n",
    "    },\n",
    "    headers={\n",
    "        'user-agent': ua.random\n",
    "    }\n",
    ")\n",
    "res.encoding = 'big-5'\n",
    "df = pd.read_csv(io.StringIO(res.text))\n",
    "\n",
    "df = df[['公司代號', '營業收入-當月營收']]\n",
    "df = df.rename(columns={\n",
    "    '公司代號': 'stock_id',\n",
    "    '營業收入-當月營收': 'revenue',\n",
    "})\n",
    "print(df)"
   ],
   "outputs": [],
   "execution_count": null
  }
 ],
 "metadata": {
  "kernelspec": {
   "display_name": "Python 3 (ipykernel)",
   "language": "python",
   "name": "python3"
  },
  "language_info": {
   "codemirror_mode": {
    "name": "ipython",
    "version": 3
   },
   "file_extension": ".py",
   "mimetype": "text/x-python",
   "name": "python",
   "nbconvert_exporter": "python",
   "pygments_lexer": "ipython3",
   "version": "3.10.11"
  }
 },
 "nbformat": 4,
 "nbformat_minor": 1
}
