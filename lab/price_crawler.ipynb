{
 "cells": [
  {
   "cell_type": "code",
   "execution_count": 2,
   "metadata": {
    "collapsed": true,
    "ExecuteTime": {
     "end_time": "2023-07-22T05:11:46.706292600Z",
     "start_time": "2023-07-22T05:11:45.816857400Z"
    }
   },
   "outputs": [
    {
     "data": {
      "text/plain": "     stock_id      證券名稱      成交股數   成交筆數        成交金額     開盤價     最高價     最低價  \\\n0        0050    元大台灣50  15718027  14370  2074554911  132.00  132.20  131.75   \n1        0051   元大中型100    254466    339    18281782   71.45   72.30   71.45   \n2        0052      富邦科技    400724    608    48581008  121.20  121.55  120.80   \n3        0053      元大電子     20493     33     1436385   69.90   70.35   69.90   \n4        0055  元大MSCI金融    548231    576    12973390   23.45   23.81   23.45   \n...       ...       ...       ...    ...         ...     ...     ...     ...   \n1195     9944        新麗    376553    205     8063705   21.20   21.70   21.15   \n1196     9945       潤泰新   3929345   3067   138994400   35.55   35.60   35.15   \n1197     9946      三發地產     73263     85     1006054   13.80   13.85   13.65   \n1198     9955        佳龍    261864    185     6103462   23.30   23.55   23.20   \n1199     9958       世紀鋼  15709344   7503  2339503364  145.00  151.50  145.00   \n\n         收盤價  最後揭示買價  最後揭示買量  最後揭示賣價  最後揭示賣量       date  \n0     132.00  132.00     284  132.05      29 2023-07-17  \n1      71.95   71.90       1   71.95       2 2023-07-17  \n2     121.30  121.30      17  121.40       3 2023-07-17  \n3      70.20   69.90       1   70.20       1 2023-07-17  \n4      23.80   23.79       6   23.80       9 2023-07-17  \n...      ...     ...     ...     ...     ...        ...  \n1195   21.50   21.50       6   21.55       4 2023-07-17  \n1196   35.45   35.40     126   35.45      98 2023-07-17  \n1197   13.70   13.65      18   13.75       9 2023-07-17  \n1198   23.30   23.30      16   23.35       4 2023-07-17  \n1199  149.00  149.00     346  149.50     240 2023-07-17  \n\n[1200 rows x 14 columns]",
      "text/html": "<div>\n<style scoped>\n    .dataframe tbody tr th:only-of-type {\n        vertical-align: middle;\n    }\n\n    .dataframe tbody tr th {\n        vertical-align: top;\n    }\n\n    .dataframe thead th {\n        text-align: right;\n    }\n</style>\n<table border=\"1\" class=\"dataframe\">\n  <thead>\n    <tr style=\"text-align: right;\">\n      <th></th>\n      <th>stock_id</th>\n      <th>證券名稱</th>\n      <th>成交股數</th>\n      <th>成交筆數</th>\n      <th>成交金額</th>\n      <th>開盤價</th>\n      <th>最高價</th>\n      <th>最低價</th>\n      <th>收盤價</th>\n      <th>最後揭示買價</th>\n      <th>最後揭示買量</th>\n      <th>最後揭示賣價</th>\n      <th>最後揭示賣量</th>\n      <th>date</th>\n    </tr>\n  </thead>\n  <tbody>\n    <tr>\n      <th>0</th>\n      <td>0050</td>\n      <td>元大台灣50</td>\n      <td>15718027</td>\n      <td>14370</td>\n      <td>2074554911</td>\n      <td>132.00</td>\n      <td>132.20</td>\n      <td>131.75</td>\n      <td>132.00</td>\n      <td>132.00</td>\n      <td>284</td>\n      <td>132.05</td>\n      <td>29</td>\n      <td>2023-07-17</td>\n    </tr>\n    <tr>\n      <th>1</th>\n      <td>0051</td>\n      <td>元大中型100</td>\n      <td>254466</td>\n      <td>339</td>\n      <td>18281782</td>\n      <td>71.45</td>\n      <td>72.30</td>\n      <td>71.45</td>\n      <td>71.95</td>\n      <td>71.90</td>\n      <td>1</td>\n      <td>71.95</td>\n      <td>2</td>\n      <td>2023-07-17</td>\n    </tr>\n    <tr>\n      <th>2</th>\n      <td>0052</td>\n      <td>富邦科技</td>\n      <td>400724</td>\n      <td>608</td>\n      <td>48581008</td>\n      <td>121.20</td>\n      <td>121.55</td>\n      <td>120.80</td>\n      <td>121.30</td>\n      <td>121.30</td>\n      <td>17</td>\n      <td>121.40</td>\n      <td>3</td>\n      <td>2023-07-17</td>\n    </tr>\n    <tr>\n      <th>3</th>\n      <td>0053</td>\n      <td>元大電子</td>\n      <td>20493</td>\n      <td>33</td>\n      <td>1436385</td>\n      <td>69.90</td>\n      <td>70.35</td>\n      <td>69.90</td>\n      <td>70.20</td>\n      <td>69.90</td>\n      <td>1</td>\n      <td>70.20</td>\n      <td>1</td>\n      <td>2023-07-17</td>\n    </tr>\n    <tr>\n      <th>4</th>\n      <td>0055</td>\n      <td>元大MSCI金融</td>\n      <td>548231</td>\n      <td>576</td>\n      <td>12973390</td>\n      <td>23.45</td>\n      <td>23.81</td>\n      <td>23.45</td>\n      <td>23.80</td>\n      <td>23.79</td>\n      <td>6</td>\n      <td>23.80</td>\n      <td>9</td>\n      <td>2023-07-17</td>\n    </tr>\n    <tr>\n      <th>...</th>\n      <td>...</td>\n      <td>...</td>\n      <td>...</td>\n      <td>...</td>\n      <td>...</td>\n      <td>...</td>\n      <td>...</td>\n      <td>...</td>\n      <td>...</td>\n      <td>...</td>\n      <td>...</td>\n      <td>...</td>\n      <td>...</td>\n      <td>...</td>\n    </tr>\n    <tr>\n      <th>1195</th>\n      <td>9944</td>\n      <td>新麗</td>\n      <td>376553</td>\n      <td>205</td>\n      <td>8063705</td>\n      <td>21.20</td>\n      <td>21.70</td>\n      <td>21.15</td>\n      <td>21.50</td>\n      <td>21.50</td>\n      <td>6</td>\n      <td>21.55</td>\n      <td>4</td>\n      <td>2023-07-17</td>\n    </tr>\n    <tr>\n      <th>1196</th>\n      <td>9945</td>\n      <td>潤泰新</td>\n      <td>3929345</td>\n      <td>3067</td>\n      <td>138994400</td>\n      <td>35.55</td>\n      <td>35.60</td>\n      <td>35.15</td>\n      <td>35.45</td>\n      <td>35.40</td>\n      <td>126</td>\n      <td>35.45</td>\n      <td>98</td>\n      <td>2023-07-17</td>\n    </tr>\n    <tr>\n      <th>1197</th>\n      <td>9946</td>\n      <td>三發地產</td>\n      <td>73263</td>\n      <td>85</td>\n      <td>1006054</td>\n      <td>13.80</td>\n      <td>13.85</td>\n      <td>13.65</td>\n      <td>13.70</td>\n      <td>13.65</td>\n      <td>18</td>\n      <td>13.75</td>\n      <td>9</td>\n      <td>2023-07-17</td>\n    </tr>\n    <tr>\n      <th>1198</th>\n      <td>9955</td>\n      <td>佳龍</td>\n      <td>261864</td>\n      <td>185</td>\n      <td>6103462</td>\n      <td>23.30</td>\n      <td>23.55</td>\n      <td>23.20</td>\n      <td>23.30</td>\n      <td>23.30</td>\n      <td>16</td>\n      <td>23.35</td>\n      <td>4</td>\n      <td>2023-07-17</td>\n    </tr>\n    <tr>\n      <th>1199</th>\n      <td>9958</td>\n      <td>世紀鋼</td>\n      <td>15709344</td>\n      <td>7503</td>\n      <td>2339503364</td>\n      <td>145.00</td>\n      <td>151.50</td>\n      <td>145.00</td>\n      <td>149.00</td>\n      <td>149.00</td>\n      <td>346</td>\n      <td>149.50</td>\n      <td>240</td>\n      <td>2023-07-17</td>\n    </tr>\n  </tbody>\n</table>\n<p>1200 rows × 14 columns</p>\n</div>"
     },
     "execution_count": 2,
     "metadata": {},
     "output_type": "execute_result"
    }
   ],
   "source": [
    "import datetime as dt\n",
    "import requests\n",
    "import pandas as pd\n",
    "from io import StringIO\n",
    "from fake_useragent import UserAgent\n",
    "\n",
    "\n",
    "def crawl_price(date: dt.datetime):\n",
    "    ua = UserAgent()\n",
    "\n",
    "    r = requests.post(\n",
    "        'https://www.twse.com.tw/exchangeReport/MI_INDEX',\n",
    "        params={\n",
    "            'response': 'csv',\n",
    "            'date': date.strftime('%Y%m%d'),\n",
    "            'type': 'ALLBUT0999',  # 全部(不含權證、牛熊證、可展延牛熊證)\n",
    "            '_': int(dt.datetime.now().timestamp() * 1000),\n",
    "        },\n",
    "        headers={\n",
    "            'user-agent': ua.random\n",
    "        }\n",
    "    )\n",
    "\n",
    "    content = r.text.replace('=', '')  # 例子： =\"0050\"\n",
    "\n",
    "    # 將 column 數量小於等於 10 的行數都刪除\n",
    "    lines = content.split('\\n')\n",
    "    lines = list(filter(lambda l: len(l.split('\",')) > 10, lines))\n",
    "\n",
    "    # 將每一行再合成同一行，並用肉眼看不到的換行符號'\\n'分開\n",
    "    content = \"\\n\".join(lines)\n",
    "\n",
    "    # 假如沒下載到，則回傳None（代表抓不到資料）\n",
    "    if content == '':\n",
    "        return None\n",
    "\n",
    "    df = pd.read_csv(StringIO(content))\n",
    "    df = df.astype(str)\n",
    "    df = df.apply(lambda s: s.str.replace(',', ''))\n",
    "\n",
    "    df = df.rename(columns={\n",
    "        '證券代號': 'stock_id',\n",
    "    })\n",
    "    df = df.drop([\n",
    "        '漲跌價差',\n",
    "        '本益比'\n",
    "    ], axis=1)\n",
    "\n",
    "    # 將所有的表格元素(除了 stock_id 和名稱)都轉換成數字 (error='coerce' 代表無法轉成數字則用 NaN 取代)\n",
    "    df = df.apply(lambda s: pd.to_numeric(s, errors='coerce') if s.name not in ['stock_id', '證券名稱']  else s)\n",
    "\n",
    "    # 刪除不必要的欄位\n",
    "    df = df[df.columns[df.isnull().all() == False]]\n",
    "\n",
    "    df['date'] = pd.to_datetime(date)\n",
    "\n",
    "    return df\n",
    "\n",
    "df = crawl_price(dt.datetime(2023, 7, 17))\n",
    "df"
   ]
  },
  {
   "cell_type": "code",
   "execution_count": 3,
   "outputs": [
    {
     "data": {
      "text/plain": "     stock_id      name    volume  transaction_count  traded_value    open  \\\n0        0050    元大台灣50  15718027              14370    2074554911  132.00   \n1        0051   元大中型100    254466                339      18281782   71.45   \n2        0052      富邦科技    400724                608      48581008  121.20   \n3        0053      元大電子     20493                 33       1436385   69.90   \n4        0055  元大MSCI金融    548231                576      12973390   23.45   \n...       ...       ...       ...                ...           ...     ...   \n1195     9944        新麗    376553                205       8063705   21.20   \n1196     9945       潤泰新   3929345               3067     138994400   35.55   \n1197     9946      三發地產     73263                 85       1006054   13.80   \n1198     9955        佳龍    261864                185       6103462   23.30   \n1199     9958       世紀鋼  15709344               7503    2339503364  145.00   \n\n        high     low   close  last_bid_price  last_bid_volume  last_ask_price  \\\n0     132.20  131.75  132.00          132.00              284          132.05   \n1      72.30   71.45   71.95           71.90                1           71.95   \n2     121.55  120.80  121.30          121.30               17          121.40   \n3      70.35   69.90   70.20           69.90                1           70.20   \n4      23.81   23.45   23.80           23.79                6           23.80   \n...      ...     ...     ...             ...              ...             ...   \n1195   21.70   21.15   21.50           21.50                6           21.55   \n1196   35.60   35.15   35.45           35.40              126           35.45   \n1197   13.85   13.65   13.70           13.65               18           13.75   \n1198   23.55   23.20   23.30           23.30               16           23.35   \n1199  151.50  145.00  149.00          149.00              346          149.50   \n\n      last_ask_volume       date  \n0                  29 2023-07-17  \n1                   2 2023-07-17  \n2                   3 2023-07-17  \n3                   1 2023-07-17  \n4                   9 2023-07-17  \n...               ...        ...  \n1195                4 2023-07-17  \n1196               98 2023-07-17  \n1197                9 2023-07-17  \n1198                4 2023-07-17  \n1199              240 2023-07-17  \n\n[1200 rows x 14 columns]",
      "text/html": "<div>\n<style scoped>\n    .dataframe tbody tr th:only-of-type {\n        vertical-align: middle;\n    }\n\n    .dataframe tbody tr th {\n        vertical-align: top;\n    }\n\n    .dataframe thead th {\n        text-align: right;\n    }\n</style>\n<table border=\"1\" class=\"dataframe\">\n  <thead>\n    <tr style=\"text-align: right;\">\n      <th></th>\n      <th>stock_id</th>\n      <th>name</th>\n      <th>volume</th>\n      <th>transaction_count</th>\n      <th>traded_value</th>\n      <th>open</th>\n      <th>high</th>\n      <th>low</th>\n      <th>close</th>\n      <th>last_bid_price</th>\n      <th>last_bid_volume</th>\n      <th>last_ask_price</th>\n      <th>last_ask_volume</th>\n      <th>date</th>\n    </tr>\n  </thead>\n  <tbody>\n    <tr>\n      <th>0</th>\n      <td>0050</td>\n      <td>元大台灣50</td>\n      <td>15718027</td>\n      <td>14370</td>\n      <td>2074554911</td>\n      <td>132.00</td>\n      <td>132.20</td>\n      <td>131.75</td>\n      <td>132.00</td>\n      <td>132.00</td>\n      <td>284</td>\n      <td>132.05</td>\n      <td>29</td>\n      <td>2023-07-17</td>\n    </tr>\n    <tr>\n      <th>1</th>\n      <td>0051</td>\n      <td>元大中型100</td>\n      <td>254466</td>\n      <td>339</td>\n      <td>18281782</td>\n      <td>71.45</td>\n      <td>72.30</td>\n      <td>71.45</td>\n      <td>71.95</td>\n      <td>71.90</td>\n      <td>1</td>\n      <td>71.95</td>\n      <td>2</td>\n      <td>2023-07-17</td>\n    </tr>\n    <tr>\n      <th>2</th>\n      <td>0052</td>\n      <td>富邦科技</td>\n      <td>400724</td>\n      <td>608</td>\n      <td>48581008</td>\n      <td>121.20</td>\n      <td>121.55</td>\n      <td>120.80</td>\n      <td>121.30</td>\n      <td>121.30</td>\n      <td>17</td>\n      <td>121.40</td>\n      <td>3</td>\n      <td>2023-07-17</td>\n    </tr>\n    <tr>\n      <th>3</th>\n      <td>0053</td>\n      <td>元大電子</td>\n      <td>20493</td>\n      <td>33</td>\n      <td>1436385</td>\n      <td>69.90</td>\n      <td>70.35</td>\n      <td>69.90</td>\n      <td>70.20</td>\n      <td>69.90</td>\n      <td>1</td>\n      <td>70.20</td>\n      <td>1</td>\n      <td>2023-07-17</td>\n    </tr>\n    <tr>\n      <th>4</th>\n      <td>0055</td>\n      <td>元大MSCI金融</td>\n      <td>548231</td>\n      <td>576</td>\n      <td>12973390</td>\n      <td>23.45</td>\n      <td>23.81</td>\n      <td>23.45</td>\n      <td>23.80</td>\n      <td>23.79</td>\n      <td>6</td>\n      <td>23.80</td>\n      <td>9</td>\n      <td>2023-07-17</td>\n    </tr>\n    <tr>\n      <th>...</th>\n      <td>...</td>\n      <td>...</td>\n      <td>...</td>\n      <td>...</td>\n      <td>...</td>\n      <td>...</td>\n      <td>...</td>\n      <td>...</td>\n      <td>...</td>\n      <td>...</td>\n      <td>...</td>\n      <td>...</td>\n      <td>...</td>\n      <td>...</td>\n    </tr>\n    <tr>\n      <th>1195</th>\n      <td>9944</td>\n      <td>新麗</td>\n      <td>376553</td>\n      <td>205</td>\n      <td>8063705</td>\n      <td>21.20</td>\n      <td>21.70</td>\n      <td>21.15</td>\n      <td>21.50</td>\n      <td>21.50</td>\n      <td>6</td>\n      <td>21.55</td>\n      <td>4</td>\n      <td>2023-07-17</td>\n    </tr>\n    <tr>\n      <th>1196</th>\n      <td>9945</td>\n      <td>潤泰新</td>\n      <td>3929345</td>\n      <td>3067</td>\n      <td>138994400</td>\n      <td>35.55</td>\n      <td>35.60</td>\n      <td>35.15</td>\n      <td>35.45</td>\n      <td>35.40</td>\n      <td>126</td>\n      <td>35.45</td>\n      <td>98</td>\n      <td>2023-07-17</td>\n    </tr>\n    <tr>\n      <th>1197</th>\n      <td>9946</td>\n      <td>三發地產</td>\n      <td>73263</td>\n      <td>85</td>\n      <td>1006054</td>\n      <td>13.80</td>\n      <td>13.85</td>\n      <td>13.65</td>\n      <td>13.70</td>\n      <td>13.65</td>\n      <td>18</td>\n      <td>13.75</td>\n      <td>9</td>\n      <td>2023-07-17</td>\n    </tr>\n    <tr>\n      <th>1198</th>\n      <td>9955</td>\n      <td>佳龍</td>\n      <td>261864</td>\n      <td>185</td>\n      <td>6103462</td>\n      <td>23.30</td>\n      <td>23.55</td>\n      <td>23.20</td>\n      <td>23.30</td>\n      <td>23.30</td>\n      <td>16</td>\n      <td>23.35</td>\n      <td>4</td>\n      <td>2023-07-17</td>\n    </tr>\n    <tr>\n      <th>1199</th>\n      <td>9958</td>\n      <td>世紀鋼</td>\n      <td>15709344</td>\n      <td>7503</td>\n      <td>2339503364</td>\n      <td>145.00</td>\n      <td>151.50</td>\n      <td>145.00</td>\n      <td>149.00</td>\n      <td>149.00</td>\n      <td>346</td>\n      <td>149.50</td>\n      <td>240</td>\n      <td>2023-07-17</td>\n    </tr>\n  </tbody>\n</table>\n<p>1200 rows × 14 columns</p>\n</div>"
     },
     "execution_count": 3,
     "metadata": {},
     "output_type": "execute_result"
    }
   ],
   "source": [
    "df = df.rename(columns={\n",
    "    '證券名稱': 'name',\n",
    "    \"開盤價\": \"open\",\n",
    "    \"最高價\": \"high\",\n",
    "    \"最低價\": \"low\",\n",
    "    \"收盤價\": \"close\",\n",
    "    \"成交股數\": \"volume\",\n",
    "    \"成交金額\": \"traded_value\",\n",
    "    \"成交筆數\": \"transaction_count\",\n",
    "    \"最後揭示買價\": \"last_bid_price\",\n",
    "    \"最後揭示買量\": \"last_bid_volume\",\n",
    "    \"最後揭示賣價\": \"last_ask_price\",\n",
    "    \"最後揭示賣量\": \"last_ask_volume\",\n",
    "})\n",
    "df"
   ],
   "metadata": {
    "collapsed": false,
    "ExecuteTime": {
     "end_time": "2023-07-22T05:11:46.722293600Z",
     "start_time": "2023-07-22T05:11:46.708293200Z"
    }
   }
  },
  {
   "cell_type": "code",
   "execution_count": 25,
   "outputs": [
    {
     "data": {
      "text/plain": "True"
     },
     "execution_count": 25,
     "metadata": {},
     "output_type": "execute_result"
    }
   ],
   "source": [
    "pd.isna(np.nan)"
   ],
   "metadata": {
    "collapsed": false,
    "ExecuteTime": {
     "end_time": "2023-07-22T05:21:59.262090400Z",
     "start_time": "2023-07-22T05:21:59.237091600Z"
    }
   }
  }
 ],
 "metadata": {
  "kernelspec": {
   "display_name": "Python 3",
   "language": "python",
   "name": "python3"
  },
  "language_info": {
   "codemirror_mode": {
    "name": "ipython",
    "version": 2
   },
   "file_extension": ".py",
   "mimetype": "text/x-python",
   "name": "python",
   "nbconvert_exporter": "python",
   "pygments_lexer": "ipython2",
   "version": "2.7.6"
  }
 },
 "nbformat": 4,
 "nbformat_minor": 0
}
