{
 "cells": [
  {
   "cell_type": "code",
   "execution_count": null,
   "metadata": {
    "collapsed": true
   },
   "outputs": [],
   "source": [
    "import datetime as dt\n",
    "\n",
    "from finance_bot.backtest.backtest_for_single_ticker import backtest_for_single_ticker\n",
    "from finance_bot.ticker_db.ticker_db import TickerDB\n",
    "from finance_bot.strategy import Always0050Strategy\n",
    "\n",
    "ticker_db = TickerDB()\n",
    "strategy = Always0050Strategy(ticker_db)\n",
    "\n",
    "tickers = strategy.select_tickers(dt.datetime.now())\n",
    "report = backtest_for_single_ticker(\n",
    "    init_funds=300000,\n",
    "    ticker=tickers[0],\n",
    "    strategy=strategy,\n",
    ")"
   ]
  },
  {
   "cell_type": "code",
   "execution_count": null,
   "outputs": [],
   "source": [
    "report.stats()"
   ],
   "metadata": {
    "collapsed": false
   }
  },
  {
   "cell_type": "code",
   "execution_count": null,
   "outputs": [],
   "source": [
    "%matplotlib inline\n",
    "report.total_assets_per_date.plot()"
   ],
   "metadata": {
    "collapsed": false
   }
  }
 ],
 "metadata": {
  "kernelspec": {
   "display_name": "Python 3",
   "language": "python",
   "name": "python3"
  },
  "language_info": {
   "codemirror_mode": {
    "name": "ipython",
    "version": 2
   },
   "file_extension": ".py",
   "mimetype": "text/x-python",
   "name": "python",
   "nbconvert_exporter": "python",
   "pygments_lexer": "ipython2",
   "version": "2.7.6"
  }
 },
 "nbformat": 4,
 "nbformat_minor": 0
}
