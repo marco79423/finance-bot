{
 "cells": [
  {
   "cell_type": "code",
   "id": "initial_id",
   "metadata": {
    "collapsed": true,
    "ExecuteTime": {
     "end_time": "2024-09-11T13:36:51.274211Z",
     "start_time": "2024-09-11T13:36:50.667983Z"
    }
   },
   "source": [
    "import pandas as pd\n",
    "\n",
    "data = pd.read_csv('./report.csv')\n",
    "\n",
    "def adjusted_calmar_ratio(row):\n",
    "    net_profit = row['Net Profit']\n",
    "    max_drawdown = row['Max Intraday Drawdown']\n",
    "    gross_profit = row['Gross Profit']\n",
    "    gross_loss = row['Gross Loss']\n",
    "    total_trades = row['Total Trades']\n",
    "    win_rate = row['% Profitable'] / 100 \n",
    "    loss_rate = 1 - win_rate\n",
    "    avg_trade = net_profit / total_trades if total_trades != 0 else 0\n",
    "    expectancy_component = (gross_profit * win_rate - abs(gross_loss) * loss_rate) / avg_trade if avg_trade != 0 else 0\n",
    "    adjusted_calmar = (net_profit / -max_drawdown) * expectancy_component if max_drawdown != 0 else 0\n",
    "    return adjusted_calmar\n",
    "\n",
    "data['Adjusted Calmar Ratio'] = data.apply(adjusted_calmar_ratio, axis=1)\n",
    "sorted_data = data.sort_values(by='Adjusted Calmar Ratio', ascending=False)\n",
    "\n",
    "exclude_columns = [\n",
    "    'Net Profit',\n",
    "    'Gross Profit',\n",
    "    'Gross Loss',\n",
    "    'Total Trades',\n",
    "    '% Profitable',\n",
    "    'Winning Trades',\n",
    "    'Losing Trades',\n",
    "    'Max Intraday Drawdown',\n",
    "    'Custom Fitness Value',\n",
    "]\n",
    "remaining_columns = sorted_data.drop(columns=exclude_columns).columns\n",
    "sorted_data[remaining_columns]"
   ],
   "outputs": [
    {
     "data": {
      "text/plain": [
       "   Enabled (strategy_f_st_long_v2_47m_band)  Adjusted Calmar Ratio\n",
       "1                                         1           38058.276967\n",
       "0                                         0           29268.483509"
      ],
      "text/html": [
       "<div>\n",
       "<style scoped>\n",
       "    .dataframe tbody tr th:only-of-type {\n",
       "        vertical-align: middle;\n",
       "    }\n",
       "\n",
       "    .dataframe tbody tr th {\n",
       "        vertical-align: top;\n",
       "    }\n",
       "\n",
       "    .dataframe thead th {\n",
       "        text-align: right;\n",
       "    }\n",
       "</style>\n",
       "<table border=\"1\" class=\"dataframe\">\n",
       "  <thead>\n",
       "    <tr style=\"text-align: right;\">\n",
       "      <th></th>\n",
       "      <th>Enabled (strategy_f_st_long_v2_47m_band)</th>\n",
       "      <th>Adjusted Calmar Ratio</th>\n",
       "    </tr>\n",
       "  </thead>\n",
       "  <tbody>\n",
       "    <tr>\n",
       "      <th>1</th>\n",
       "      <td>1</td>\n",
       "      <td>38058.276967</td>\n",
       "    </tr>\n",
       "    <tr>\n",
       "      <th>0</th>\n",
       "      <td>0</td>\n",
       "      <td>29268.483509</td>\n",
       "    </tr>\n",
       "  </tbody>\n",
       "</table>\n",
       "</div>"
      ]
     },
     "execution_count": 1,
     "metadata": {},
     "output_type": "execute_result"
    }
   ],
   "execution_count": 1
  }
 ],
 "metadata": {
  "kernelspec": {
   "display_name": "Python 3",
   "language": "python",
   "name": "python3"
  },
  "language_info": {
   "codemirror_mode": {
    "name": "ipython",
    "version": 2
   },
   "file_extension": ".py",
   "mimetype": "text/x-python",
   "name": "python",
   "nbconvert_exporter": "python",
   "pygments_lexer": "ipython2",
   "version": "2.7.6"
  }
 },
 "nbformat": 4,
 "nbformat_minor": 5
}
