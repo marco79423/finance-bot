{
 "cells": [
  {
   "metadata": {},
   "cell_type": "code",
   "source": [
    "from multicharts.strategy_picker import pick_strategy\n",
    "\n",
    "args = dict(\n",
    "    init_fund=4000000,\n",
    "    min_trades=160,\n",
    "    max_mdd=30,\n",
    ")\n",
    "\n",
    "data = pick_strategy('./report.csv', **args)\n",
    "data"
   ],
   "id": "884efced0810ac85",
   "outputs": [],
   "execution_count": null
  },
  {
   "metadata": {},
   "cell_type": "code",
   "source": "pick_strategy('./report.csv', **args).iloc[0]",
   "id": "b4f15336fcfdbd91",
   "outputs": [],
   "execution_count": null
  }
 ],
 "metadata": {
  "kernelspec": {
   "display_name": "Python 3",
   "language": "python",
   "name": "python3"
  },
  "language_info": {
   "codemirror_mode": {
    "name": "ipython",
    "version": 2
   },
   "file_extension": ".py",
   "mimetype": "text/x-python",
   "name": "python",
   "nbconvert_exporter": "python",
   "pygments_lexer": "ipython2",
   "version": "2.7.6"
  }
 },
 "nbformat": 4,
 "nbformat_minor": 5
}
